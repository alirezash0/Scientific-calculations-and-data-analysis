{
 "cells": [
  {
   "cell_type": "markdown",
   "metadata": {},
   "source": [
    "Question1:\n",
    "How many rows and columns are there in the dataset?"
   ]
  },
  {
   "cell_type": "code",
   "execution_count": 28,
   "metadata": {},
   "outputs": [
    {
     "name": "stdout",
     "output_type": "stream",
     "text": [
      "(395, 33)\n"
     ]
    }
   ],
   "source": [
    "import pandas as pd\n",
    "data= pd.read_csv(\"student_data.csv\")\n",
    "print(data.shape)"
   ]
  },
  {
   "cell_type": "markdown",
   "metadata": {},
   "source": [
    "Question2:\n",
    "What are the unique values in the 'school' column?"
   ]
  },
  {
   "cell_type": "code",
   "execution_count": 30,
   "metadata": {},
   "outputs": [
    {
     "name": "stdout",
     "output_type": "stream",
     "text": [
      "['GP' 'MS']\n"
     ]
    }
   ],
   "source": [
    "import pandas as pd\n",
    "data= pd.read_csv(\"student_data.csv\")\n",
    "\n",
    "unique_school_values = data['school'].unique()\n",
    "print (unique_school_values)"
   ]
  },
  {
   "cell_type": "markdown",
   "metadata": {},
   "source": [
    "Question3:\n",
    "What is the average age of the students in the dataset?"
   ]
  },
  {
   "cell_type": "code",
   "execution_count": 31,
   "metadata": {},
   "outputs": [
    {
     "name": "stdout",
     "output_type": "stream",
     "text": [
      "16.696202531645568\n"
     ]
    }
   ],
   "source": [
    "import pandas as pd\n",
    "data= pd.read_csv(\"student_data.csv\")\n",
    "\n",
    "average_age = data['age'].mean()\n",
    "print(average_age)\n"
   ]
  },
  {
   "cell_type": "markdown",
   "metadata": {},
   "source": [
    "Question4:\n",
    "How many students have internet access ('internet' column is 'yes')?"
   ]
  },
  {
   "cell_type": "code",
   "execution_count": 34,
   "metadata": {},
   "outputs": [
    {
     "name": "stdout",
     "output_type": "stream",
     "text": [
      "329\n"
     ]
    }
   ],
   "source": [
    "import pandas as pd\n",
    "data= pd.read_csv(\"student_data.csv\")\n",
    "\n",
    "students_with_internet = data[data['internet'] == 'yes'].shape[0]\n",
    "print(students_with_internet)"
   ]
  },
  {
   "cell_type": "markdown",
   "metadata": {},
   "source": [
    "Question5:\n",
    "What is the highest study time among the students?"
   ]
  },
  {
   "cell_type": "code",
   "execution_count": 35,
   "metadata": {},
   "outputs": [
    {
     "name": "stdout",
     "output_type": "stream",
     "text": [
      "4\n"
     ]
    }
   ],
   "source": [
    "import pandas as pd\n",
    "data= pd.read_csv(\"student_data.csv\")\n",
    "\n",
    "highest_study_time = data['studytime'].max()\n",
    "print(highest_study_time)"
   ]
  },
  {
   "cell_type": "markdown",
   "metadata": {},
   "source": [
    "Question 6:\n",
    "How many students have failed more than once ('failures' greater than 1)?\n",
    "failed more than once:\", students_failed_more_than_once"
   ]
  },
  {
   "cell_type": "code",
   "execution_count": 36,
   "metadata": {},
   "outputs": [
    {
     "name": "stdout",
     "output_type": "stream",
     "text": [
      "33\n"
     ]
    }
   ],
   "source": [
    "import pandas as pd\n",
    "data= pd.read_csv(\"student_data.csv\")\n",
    "\n",
    "students_failed_more_than_once = data[data['failures'] > 1].shape[0]\n",
    "print(students_failed_more_than_once)"
   ]
  },
  {
   "cell_type": "markdown",
   "metadata": {},
   "source": [
    "Question 7:\n",
    "How many students have failed at least one subject (G1, G2, G3 less than 10)?"
   ]
  },
  {
   "cell_type": "code",
   "execution_count": 37,
   "metadata": {},
   "outputs": [
    {
     "name": "stdout",
     "output_type": "stream",
     "text": [
      "174\n"
     ]
    }
   ],
   "source": [
    "import pandas as pd\n",
    "data= pd.read_csv(\"student_data.csv\")\n",
    "\n",
    "students_failed_at_least_one = data[(data['G1'] < 10) | (data['G2'] < 10) | (data['G3'] < 10)].shape[0]\n",
    "print(students_failed_at_least_one)\n"
   ]
  },
  {
   "cell_type": "markdown",
   "metadata": {},
   "source": [
    "Question8:\n",
    "What is the average health score for students who go out frequently (goout > 3)?"
   ]
  },
  {
   "cell_type": "code",
   "execution_count": 38,
   "metadata": {},
   "outputs": [
    {
     "name": "stdout",
     "output_type": "stream",
     "text": [
      "3.5467625899280577\n"
     ]
    }
   ],
   "source": [
    "import pandas as pd\n",
    "data= pd.read_csv(\"student_data.csv\")\n",
    "\n",
    "average_health_score_go_out_frequently = data[data['goout'] > 3]['health'].mean()\n",
    "print( average_health_score_go_out_frequently)"
   ]
  },
  {
   "cell_type": "markdown",
   "metadata": {},
   "source": [
    "Question9:\n",
    "For each school, what is the average final grade (G3) for male and female students separately?"
   ]
  },
  {
   "cell_type": "code",
   "execution_count": 41,
   "metadata": {},
   "outputs": [
    {
     "name": "stdout",
     "output_type": "stream",
     "text": [
      "  school sex         G3\n",
      "0     GP   F   9.972678\n",
      "1     GP   M  11.060241\n",
      "2     MS   F   9.920000\n",
      "3     MS   M   9.761905\n"
     ]
    }
   ],
   "source": [
    "import pandas as pd\n",
    "data= pd.read_csv(\"student_data.csv\")\n",
    "\n",
    "average_grade_by_school_gender = data.groupby(['school', 'sex'])['G3'].mean().reset_index()\n",
    "print(average_grade_by_school_gender)"
   ]
  },
  {
   "cell_type": "markdown",
   "metadata": {},
   "source": [
    "Question 10:\n",
    "How many students have passed all subjects (G1, G2, and G3 greater than or equal to 10)?"
   ]
  },
  {
   "cell_type": "code",
   "execution_count": 42,
   "metadata": {},
   "outputs": [
    {
     "name": "stdout",
     "output_type": "stream",
     "text": [
      "221\n"
     ]
    }
   ],
   "source": [
    "import pandas as pd\n",
    "data= pd.read_csv(\"student_data.csv\")\n",
    "\n",
    "students_passed_all_subjects = data[(data['G1'] >= 10) & (data['G2'] >= 10) & (data['G3'] >= 10)].shape[0]\n",
    "print(students_passed_all_subjects)"
   ]
  },
  {
   "cell_type": "markdown",
   "metadata": {},
   "source": [
    "Question 11:\n",
    "Find the top 5 students with the highest average grades (average of G1, G2, and G3)."
   ]
  },
  {
   "cell_type": "code",
   "execution_count": 8,
   "metadata": {},
   "outputs": [
    {
     "name": "stdout",
     "output_type": "stream",
     "text": [
      "     average_grades\n",
      "47        19.333333\n",
      "110       18.666667\n",
      "113       18.666667\n",
      "374       18.666667\n",
      "42        18.333333\n"
     ]
    }
   ],
   "source": [
    "import pandas as pd\n",
    "data= pd.read_csv(\"student_data.csv\")\n",
    "\n",
    "data['average_grades'] = data[['G1', 'G2', 'G3']].mean(axis=1)\n",
    "data_sorted = data.sort_values(by='average_grades', ascending=False)\n",
    "\n",
    "top_5_students = data_sorted.head(5)\n",
    "print(top_5_students[['average_grades']])"
   ]
  }
 ],
 "metadata": {
  "kernelspec": {
   "display_name": "Python 3",
   "language": "python",
   "name": "python3"
  },
  "language_info": {
   "codemirror_mode": {
    "name": "ipython",
    "version": 3
   },
   "file_extension": ".py",
   "mimetype": "text/x-python",
   "name": "python",
   "nbconvert_exporter": "python",
   "pygments_lexer": "ipython3",
   "version": "3.12.0"
  }
 },
 "nbformat": 4,
 "nbformat_minor": 2
}
