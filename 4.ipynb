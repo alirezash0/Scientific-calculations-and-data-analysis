{
 "cells": [
  {
   "cell_type": "markdown",
   "metadata": {},
   "source": [
    "1. Create a 1-dimensional NumPy array arr containing 12 random integers between 100 and 1000 (inclusive). Reshape arr into a 3D matrix matrix of shape (2, 2, 3) using reshape. Replace all even numbers in matrix with 0. Finally, calculate the sum of all the elements in matrix and print the result."
   ]
  },
  {
   "cell_type": "code",
   "execution_count": 30,
   "metadata": {},
   "outputs": [
    {
     "name": "stdout",
     "output_type": "stream",
     "text": [
      "\n",
      "Original matrix:\n",
      " [537 836 624 714 247 599 440 588 924 515 463 157]\n",
      "\n",
      "reshape matrix:\n",
      " [[[537 836 624]\n",
      "  [714 247 599]]\n",
      "\n",
      " [[440 588 924]\n",
      "  [515 463 157]]]\n",
      "\n",
      "replace matrix:\n",
      " [[[537   0   0]\n",
      "  [  0 247 599]]\n",
      "\n",
      " [[  0   0   0]\n",
      "  [515 463 157]]]\n",
      "\n",
      "Sum of all elements in the matrix: 2518\n"
     ]
    }
   ],
   "source": [
    "import numpy as np\n",
    "\n",
    "arr = np.random.randint(100, 1001, 12)\n",
    "print (f\"\\nOriginal matrix:\\n {arr}\\n\")\n",
    "\n",
    "matrix = arr.reshape((2, 2, 3))\n",
    "print(f\"reshape matrix:\\n {matrix}\\n\")\n",
    "\n",
    "matrix[matrix % 2 == 0] = 0\n",
    "print(f\"replace matrix:\\n {matrix}\")\n",
    "\n",
    "matrix_sum = np.sum(matrix)\n",
    "print(\"\\nSum of all elements in the matrix:\", matrix_sum)"
   ]
  },
  {
   "cell_type": "markdown",
   "metadata": {},
   "source": [
    "2.Create a 2-dimensional NumPy array, arr, of shape (4, 5), filled with random integers between 1 and 100 (inclusive). Reshape the array into a 1-dimensional array of shape (20,). Replace all the even numbers in the reshaped array with 0 and print the resulting array."
   ]
  },
  {
   "cell_type": "code",
   "execution_count": 35,
   "metadata": {},
   "outputs": [
    {
     "name": "stdout",
     "output_type": "stream",
     "text": [
      "\n",
      "Original matrix:\n",
      " [[19 56 18 21  2]\n",
      " [48 92 82 92 55]\n",
      " [44 53 78 95 41]\n",
      " [68 21 31 65 51]]\n",
      "\n",
      "reshape matrix:\n",
      " [19 56 18 21  2 48 92 82 92 55 44 53 78 95 41 68 21 31 65 51]\n",
      "\n",
      "reshape matrix even:\n",
      " [19  0  0 21  0  0  0  0  0 55  0 53  0 95 41  0 21 31 65 51]\n",
      "\n"
     ]
    }
   ],
   "source": [
    "import numpy as np\n",
    "\n",
    "arr = np.random.randint(1, 101, (4, 5))\n",
    "print (f\"\\nOriginal matrix:\\n {arr}\\n\")\n",
    "\n",
    "arr_reshaped = arr.reshape(20)\n",
    "print(f\"reshape matrix:\\n {arr_reshaped}\\n\")\n",
    "\n",
    "arr_reshaped[arr_reshaped % 2 == 0] = 0\n",
    "print(f\"reshape matrix even:\\n {arr_reshaped}\\n\")"
   ]
  },
  {
   "cell_type": "markdown",
   "metadata": {},
   "source": [
    "3. Write a Python program that uses the numpy library to create a 1-dimensional array containing 100 equally spaced values between 0 and 10 (inclusive) . Reshape the array into a 10x10 matrix and calculate the sum of each row. Print the resulting array containing the sums."
   ]
  },
  {
   "cell_type": "code",
   "execution_count": 2,
   "metadata": {},
   "outputs": [
    {
     "name": "stdout",
     "output_type": "stream",
     "text": [
      "\n",
      "Original matrix:\n",
      " [ 0.          0.1010101   0.2020202   0.3030303   0.4040404   0.50505051\n",
      "  0.60606061  0.70707071  0.80808081  0.90909091  1.01010101  1.11111111\n",
      "  1.21212121  1.31313131  1.41414141  1.51515152  1.61616162  1.71717172\n",
      "  1.81818182  1.91919192  2.02020202  2.12121212  2.22222222  2.32323232\n",
      "  2.42424242  2.52525253  2.62626263  2.72727273  2.82828283  2.92929293\n",
      "  3.03030303  3.13131313  3.23232323  3.33333333  3.43434343  3.53535354\n",
      "  3.63636364  3.73737374  3.83838384  3.93939394  4.04040404  4.14141414\n",
      "  4.24242424  4.34343434  4.44444444  4.54545455  4.64646465  4.74747475\n",
      "  4.84848485  4.94949495  5.05050505  5.15151515  5.25252525  5.35353535\n",
      "  5.45454545  5.55555556  5.65656566  5.75757576  5.85858586  5.95959596\n",
      "  6.06060606  6.16161616  6.26262626  6.36363636  6.46464646  6.56565657\n",
      "  6.66666667  6.76767677  6.86868687  6.96969697  7.07070707  7.17171717\n",
      "  7.27272727  7.37373737  7.47474747  7.57575758  7.67676768  7.77777778\n",
      "  7.87878788  7.97979798  8.08080808  8.18181818  8.28282828  8.38383838\n",
      "  8.48484848  8.58585859  8.68686869  8.78787879  8.88888889  8.98989899\n",
      "  9.09090909  9.19191919  9.29292929  9.39393939  9.49494949  9.5959596\n",
      "  9.6969697   9.7979798   9.8989899  10.        ]\n",
      "\n",
      "reshape matrix:\n",
      " [[ 0.          0.1010101   0.2020202   0.3030303   0.4040404   0.50505051\n",
      "   0.60606061  0.70707071  0.80808081  0.90909091]\n",
      " [ 1.01010101  1.11111111  1.21212121  1.31313131  1.41414141  1.51515152\n",
      "   1.61616162  1.71717172  1.81818182  1.91919192]\n",
      " [ 2.02020202  2.12121212  2.22222222  2.32323232  2.42424242  2.52525253\n",
      "   2.62626263  2.72727273  2.82828283  2.92929293]\n",
      " [ 3.03030303  3.13131313  3.23232323  3.33333333  3.43434343  3.53535354\n",
      "   3.63636364  3.73737374  3.83838384  3.93939394]\n",
      " [ 4.04040404  4.14141414  4.24242424  4.34343434  4.44444444  4.54545455\n",
      "   4.64646465  4.74747475  4.84848485  4.94949495]\n",
      " [ 5.05050505  5.15151515  5.25252525  5.35353535  5.45454545  5.55555556\n",
      "   5.65656566  5.75757576  5.85858586  5.95959596]\n",
      " [ 6.06060606  6.16161616  6.26262626  6.36363636  6.46464646  6.56565657\n",
      "   6.66666667  6.76767677  6.86868687  6.96969697]\n",
      " [ 7.07070707  7.17171717  7.27272727  7.37373737  7.47474747  7.57575758\n",
      "   7.67676768  7.77777778  7.87878788  7.97979798]\n",
      " [ 8.08080808  8.18181818  8.28282828  8.38383838  8.48484848  8.58585859\n",
      "   8.68686869  8.78787879  8.88888889  8.98989899]\n",
      " [ 9.09090909  9.19191919  9.29292929  9.39393939  9.49494949  9.5959596\n",
      "   9.6969697   9.7979798   9.8989899  10.        ]]\n",
      "\n",
      "matrix row sum:\n",
      " [ 4.54545455 14.64646465 24.74747475 34.84848485 44.94949495 55.05050505\n",
      " 65.15151515 75.25252525 85.35353535 95.45454545]\n",
      "\n"
     ]
    }
   ],
   "source": [
    "import numpy as np\n",
    "arr = np.linspace(0,10,100)\n",
    "#arr = np.arange(0, 10, 0.1)\n",
    "print (f\"\\nOriginal matrix:\\n {arr}\\n\")\n",
    "\n",
    "matrix = arr.reshape((10, 10))\n",
    "print(f\"reshape matrix:\\n {matrix}\\n\")\n",
    "\n",
    "row_sums = np.sum(matrix, axis=1)\n",
    "print(f\"matrix row sum:\\n {row_sums}\\n\")"
   ]
  },
  {
   "cell_type": "markdown",
   "metadata": {},
   "source": [
    "4. You have a 1-dimensional NumPy array, arr, containing 100 elements of random integers between 1 and 1000 (inclusive). Reshape the array into a 10x10 matrix. Find the average value of each row and column separately, and store the results in two separate 1-dimensional arrays. Print the resulting arrays."
   ]
  },
  {
   "cell_type": "code",
   "execution_count": 2,
   "metadata": {},
   "outputs": [
    {
     "name": "stdout",
     "output_type": "stream",
     "text": [
      "\n",
      "Original matrix:\n",
      " [254  53 523 271 579 333 881 401 342 617 323 581 154 446  48  90 479 938\n",
      " 229 156 557 341 277 298  67 908 890 843 326 524 184 786 557 775 443  56\n",
      " 409 136 724  20 285 131 563 496 746 988 885 963 494 911   8 324 605 636\n",
      " 375 332 653 694 716 835  45 421 309 444 117 456 202 804 827 238  93 794\n",
      " 865 903 886 566 969 117 982 556 612 514 468 396 323 329 994 621 916 341\n",
      " 957  22 885 278 739  76 160 731 670  61]\n",
      "\n",
      "reshape matrix:\n",
      " [[254  53 523 271 579 333 881 401 342 617]\n",
      " [323 581 154 446  48  90 479 938 229 156]\n",
      " [557 341 277 298  67 908 890 843 326 524]\n",
      " [184 786 557 775 443  56 409 136 724  20]\n",
      " [285 131 563 496 746 988 885 963 494 911]\n",
      " [  8 324 605 636 375 332 653 694 716 835]\n",
      " [ 45 421 309 444 117 456 202 804 827 238]\n",
      " [ 93 794 865 903 886 566 969 117 982 556]\n",
      " [612 514 468 396 323 329 994 621 916 341]\n",
      " [957  22 885 278 739  76 160 731 670  61]]\n",
      "\n",
      "matrix row average:\n",
      " [425.4 344.4 503.1 409.  646.2 517.8 386.3 673.1 551.4 457.9]\n",
      "\n",
      "matrix column average:\n",
      " [331.8 396.7 520.6 494.3 432.3 413.4 652.2 624.8 622.6 425.9]\n",
      "\n"
     ]
    }
   ],
   "source": [
    "import numpy as np\n",
    "\n",
    "arr = np.random.randint(1, 1001, 100)\n",
    "print (f\"\\nOriginal matrix:\\n {arr}\\n\")\n",
    "\n",
    "matrix = arr.reshape((10, 10))\n",
    "print(f\"reshape matrix:\\n {matrix}\\n\")\n",
    "\n",
    "row_averages = np.mean(matrix, axis=1)\n",
    "print(f\"matrix row average:\\n {row_averages}\\n\")\n",
    "\n",
    "column_averages = np.mean(matrix, axis=0)\n",
    "print(f\"matrix column average:\\n {column_averages}\\n\")"
   ]
  },
  {
   "cell_type": "markdown",
   "metadata": {},
   "source": [
    "5. You have a 1-dimensional NumPy array arr of size 20, filled with random floating-point numbers between 0 and 1 (inclusive). Reshape arr into a 4x5 matrix. Replace all values in the matrix that are less than 0.5 with 0. Calculate the sum of each column in the modified matrix and print the resulting array."
   ]
  },
  {
   "cell_type": "code",
   "execution_count": 3,
   "metadata": {},
   "outputs": [
    {
     "name": "stdout",
     "output_type": "stream",
     "text": [
      "\n",
      "Original matrix:\n",
      " [0.16718831 0.61004208 0.712985   0.51187613 0.80080876 0.95329469\n",
      " 0.95652231 0.21101033 0.78602835 0.81082678 0.81961753 0.53925378\n",
      " 0.81123516 0.4641944  0.27874446 0.09350346 0.96988014 0.58436445\n",
      " 0.8895235  0.38049321]\n",
      "\n",
      "reshape matrix:\n",
      " [[0.16718831 0.61004208 0.712985   0.51187613 0.80080876]\n",
      " [0.95329469 0.95652231 0.21101033 0.78602835 0.81082678]\n",
      " [0.81961753 0.53925378 0.81123516 0.4641944  0.27874446]\n",
      " [0.09350346 0.96988014 0.58436445 0.8895235  0.38049321]]\n",
      "\n",
      "reshape matrix con:\n",
      " [[0.         0.61004208 0.712985   0.51187613 0.80080876]\n",
      " [0.95329469 0.95652231 0.         0.78602835 0.81082678]\n",
      " [0.81961753 0.53925378 0.81123516 0.         0.        ]\n",
      " [0.         0.96988014 0.58436445 0.8895235  0.        ]]\n",
      "\n",
      "matrix column sum:\n",
      " [1.77291222 3.07569832 2.10858461 2.18742798 1.61163554]\n",
      "\n"
     ]
    }
   ],
   "source": [
    "import numpy as np\n",
    "\n",
    "arr = np.random.rand(20)\n",
    "print (f\"\\nOriginal matrix:\\n {arr}\\n\")\n",
    "\n",
    "matrix = arr.reshape((4, 5))\n",
    "print(f\"reshape matrix:\\n {matrix}\\n\")\n",
    "\n",
    "matrix[matrix < 0.5] = 0\n",
    "print(f\"reshape matrix con:\\n {matrix}\\n\")\n",
    "\n",
    "column_sums = np.sum(matrix, axis=0)\n",
    "print(f\"matrix column sum:\\n {column_sums}\\n\")"
   ]
  }
 ],
 "metadata": {
  "kernelspec": {
   "display_name": "Python 3",
   "language": "python",
   "name": "python3"
  },
  "language_info": {
   "codemirror_mode": {
    "name": "ipython",
    "version": 3
   },
   "file_extension": ".py",
   "mimetype": "text/x-python",
   "name": "python",
   "nbconvert_exporter": "python",
   "pygments_lexer": "ipython3",
   "version": "3.12.0"
  }
 },
 "nbformat": 4,
 "nbformat_minor": 2
}
