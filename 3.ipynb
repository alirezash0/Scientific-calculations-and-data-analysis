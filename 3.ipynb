{
 "cells": [
  {
   "cell_type": "markdown",
   "metadata": {},
   "source": [
    "Question 1:\n",
    "Write a Python function that takes a sentence as input and returns a dictionary where the keys are unique words in the sentence, and the values are the frequencies of those words."
   ]
  },
  {
   "cell_type": "code",
   "execution_count": 3,
   "metadata": {},
   "outputs": [],
   "source": [
    "def word_frequency(sentence):\n",
    "\n",
    "    words = sentence.split()\n",
    "    word_freq = {}\n",
    "\n",
    "    for word in words:\n",
    "\n",
    "        word = word.lower()\n",
    "        word = word.strip('.,!?')\n",
    "\n",
    "        if word in word_freq:\n",
    "            word_freq[word] += 1\n",
    "        else:\n",
    "            word_freq[word] = 1\n",
    "\n",
    "    return word_freq"
   ]
  },
  {
   "cell_type": "code",
   "execution_count": 4,
   "metadata": {},
   "outputs": [
    {
     "name": "stdout",
     "output_type": "stream",
     "text": [
      "{'this': 2, 'is': 2, 'a': 2, 'sample': 2, 'sentence': 1}\n"
     ]
    }
   ],
   "source": [
    "sentence = \"This is a sample sentence. This is a sample.\"\n",
    "result = word_frequency(sentence)\n",
    "print(result)\n"
   ]
  },
  {
   "cell_type": "markdown",
   "metadata": {},
   "source": [
    "Question 2:\n",
    "Write a Python function that takes two lists as input and returns a new list containing the common elements between the two input lists."
   ]
  },
  {
   "cell_type": "code",
   "execution_count": 19,
   "metadata": {},
   "outputs": [],
   "source": [
    "def find_common_elements(list1, list2):\n",
    "\n",
    "    common_elements = [element for element in list1 if element in list2]\n",
    "    return common_elements"
   ]
  },
  {
   "cell_type": "code",
   "execution_count": 20,
   "metadata": {},
   "outputs": [
    {
     "name": "stdout",
     "output_type": "stream",
     "text": [
      "[3, 4, 5]\n"
     ]
    }
   ],
   "source": [
    "list_a = [1, 2, 3, 4, 5]\n",
    "list_b = [3, 4, 5, 6, 7]\n",
    "result = find_common_elements(list_a, list_b)\n",
    "print(result)"
   ]
  },
  {
   "cell_type": "code",
   "execution_count": 21,
   "metadata": {},
   "outputs": [
    {
     "name": "stdout",
     "output_type": "stream",
     "text": [
      "['orange', 'grape']\n"
     ]
    }
   ],
   "source": [
    "list_x = [\"apple\", \"banana\", \"orange\", \"grape\"]\n",
    "list_y = [\"orange\", \"grape\", \"kiwi\", \"melon\"]\n",
    "result = find_common_elements(list_x, list_y)\n",
    "print(result)"
   ]
  },
  {
   "cell_type": "markdown",
   "metadata": {},
   "source": [
    "Question 3:\n",
    "The Caesar Cipher is a simple encryption technique where each letter in the plaintext is shifted a certain number of places down or up the alphabet. Write two Python functions to implement the Caesar Cipher encryption and decryption.\n",
    "• The Caesar Cipher should preserve the case of each letter (uppercase letters should remain uppercase, and lowercase letters should remain lowercase).\n",
    "• Non-alphabetic characters (e.g., spaces, punctuation) should be left unchanged during both encryption and decryption.\n",
    "Hint:\n",
    "You can use “ord()” function to convert character to asci code and “chr()” function to convert an asci code to its equivalent character."
   ]
  },
  {
   "cell_type": "code",
   "execution_count": 26,
   "metadata": {},
   "outputs": [],
   "source": [
    "def caesar_encrypt(plaintext, shift):\n",
    " \n",
    "    encrypted_text = \"\"\n",
    "    \n",
    "    for char in plaintext:\n",
    "        if char.isalpha():\n",
    "\n",
    "            is_upper = char.isupper()\n",
    "            char_code = ord(char)\n",
    "\n",
    "            shifted_code = (char_code - ord('A' if is_upper else 'a') + shift) % 26\n",
    "            encrypted_char = chr(shifted_code + ord('A' if is_upper else 'a'))\n",
    "            encrypted_text += encrypted_char\n",
    "\n",
    "        else:\n",
    "            encrypted_text += char\n",
    "    \n",
    "    return encrypted_text\n",
    "\n",
    "def caesar_decrypt(ciphertext, shift):\n",
    "    \n",
    "    decrypted_text = \"\"\n",
    "    \n",
    "    for char in ciphertext:\n",
    "        if char.isalpha():\n",
    "\n",
    "            is_upper = char.isupper()\n",
    "            char_code = ord(char)\n",
    "\n",
    "            shifted_code = (char_code - ord('A' if is_upper else 'a') - shift) % 26\n",
    "            decrypted_char = chr(shifted_code + ord('A' if is_upper else 'a'))\n",
    "            decrypted_text += decrypted_char\n",
    "\n",
    "        else:\n",
    "            decrypted_text += char\n",
    "\n",
    "    return decrypted_text"
   ]
  },
  {
   "cell_type": "code",
   "execution_count": 27,
   "metadata": {},
   "outputs": [
    {
     "name": "stdout",
     "output_type": "stream",
     "text": [
      "Encrypted: Khoor, Zruog!\n"
     ]
    }
   ],
   "source": [
    "plaintext = \"Hello, World!\"\n",
    "shift_value = 3\n",
    "\n",
    "encrypted_text = caesar_encrypt(plaintext, shift_value)\n",
    "print(\"Encrypted:\", encrypted_text)\n"
   ]
  },
  {
   "cell_type": "code",
   "execution_count": 28,
   "metadata": {},
   "outputs": [
    {
     "name": "stdout",
     "output_type": "stream",
     "text": [
      "Decrypted: Hello, World!\n"
     ]
    }
   ],
   "source": [
    "ciphertext = \"Khoor, Zruog!\"\n",
    "shift = 3\n",
    "\n",
    "decrypted_text = caesar_decrypt(encrypted_text, shift_value)\n",
    "print(\"Decrypted:\", decrypted_text)"
   ]
  },
  {
   "cell_type": "markdown",
   "metadata": {},
   "source": [
    "Question 4:\n",
    "Write a Python function that takes two phrases as input and determines whether they are anagrams. Anagrams are phrases that use the same characters with the same frequency but may be arranged differently. The function should ignore spaces and capitalization."
   ]
  },
  {
   "cell_type": "code",
   "execution_count": 4,
   "metadata": {},
   "outputs": [],
   "source": [
    "def are_anagrams(phrase1, phrase2):\n",
    "\n",
    "    cleaned_phrase1 = ''.join(char.lower() for char in phrase1 if char.isalnum())\n",
    "    cleaned_phrase2 = ''.join(char.lower() for char in phrase2 if char.isalnum())\n",
    "\n",
    "    return set(cleaned_phrase1) == set(cleaned_phrase2)"
   ]
  },
  {
   "cell_type": "code",
   "execution_count": 5,
   "metadata": {},
   "outputs": [
    {
     "name": "stdout",
     "output_type": "stream",
     "text": [
      "True\n"
     ]
    }
   ],
   "source": [
    "phrase1 = \"Listen\"\n",
    "phrase2 = \"Silent\"\n",
    "\n",
    "result = are_anagrams(phrase1, phrase2)\n",
    "print(result)\n"
   ]
  },
  {
   "cell_type": "code",
   "execution_count": 6,
   "metadata": {},
   "outputs": [
    {
     "name": "stdout",
     "output_type": "stream",
     "text": [
      "False\n"
     ]
    }
   ],
   "source": [
    "phrase1 = \"Hello\"\n",
    "phrase2 = \"World\"\n",
    "\n",
    "result = are_anagrams(phrase1, phrase2)\n",
    "print(result)"
   ]
  },
  {
   "cell_type": "code",
   "execution_count": 7,
   "metadata": {},
   "outputs": [
    {
     "name": "stdout",
     "output_type": "stream",
     "text": [
      "True\n"
     ]
    }
   ],
   "source": [
    "phrase1 = \"The eyes\"\n",
    "phrase2 = \"They see\"\n",
    "\n",
    "result = are_anagrams(phrase1, phrase2)\n",
    "print(result)"
   ]
  },
  {
   "cell_type": "markdown",
   "metadata": {},
   "source": [
    "Question 5:\n",
    "Write a Python function that checks the strength of a password based on certain criteria. The function should return a strength level \"Weak” or \"Strong\" based on the following rules:\n",
    "• Length: The password must be at least 8 characters long.\n",
    "• Uppercase Letters: The password should contain at least one uppercase letter.\n",
    "• Lowercase Letters: The password should contain at least one lowercase letter.\n",
    "• Numbers: The password should contain at least one numerical digit."
   ]
  },
  {
   "cell_type": "code",
   "execution_count": 32,
   "metadata": {},
   "outputs": [],
   "source": [
    "def check_password_strength(password):\n",
    "    if len(password) < 8:\n",
    "        return \"Weak\"\n",
    "\n",
    "    if not any(char.isupper() for char in password):\n",
    "        return \"Weak\"\n",
    "\n",
    "    if not any(char.islower() for char in password):\n",
    "        return \"Weak\"\n",
    "\n",
    "    if not any(char.isdigit() for char in password):\n",
    "        return \"Weak\"\n",
    "\n",
    "    return \"Strong\""
   ]
  },
  {
   "cell_type": "code",
   "execution_count": 33,
   "metadata": {},
   "outputs": [
    {
     "name": "stdout",
     "output_type": "stream",
     "text": [
      "Weak\n"
     ]
    }
   ],
   "source": [
    "password1 = \"abc123\"\n",
    "strength1 = check_password_strength(password1)\n",
    "\n",
    "print(f'{strength1}')\n"
   ]
  },
  {
   "cell_type": "code",
   "execution_count": 34,
   "metadata": {},
   "outputs": [
    {
     "name": "stdout",
     "output_type": "stream",
     "text": [
      "Strong\n"
     ]
    }
   ],
   "source": [
    "password2 = \"!Qwerty123\"\n",
    "strength2 = check_password_strength(password2)\n",
    "\n",
    "print(f'{strength2}')"
   ]
  }
 ],
 "metadata": {
  "kernelspec": {
   "display_name": "Python 3",
   "language": "python",
   "name": "python3"
  },
  "language_info": {
   "codemirror_mode": {
    "name": "ipython",
    "version": 3
   },
   "file_extension": ".py",
   "mimetype": "text/x-python",
   "name": "python",
   "nbconvert_exporter": "python",
   "pygments_lexer": "ipython3",
   "version": "3.12.0"
  }
 },
 "nbformat": 4,
 "nbformat_minor": 2
}
